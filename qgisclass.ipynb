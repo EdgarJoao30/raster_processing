{
 "cells": [
  {
   "cell_type": "markdown",
   "metadata": {},
   "source": [
    "---\n",
    "title: Principios de Estadística Aplicada con R\n",
    "subtitle: Introducción a R\n",
    "Project: \n",
    "author:\n",
    "- name: Gabriel Carrasco Escobar\n",
    "  affiliation: Universidad Peruana Cayetano Heredia\n",
    "- name: Jorge Ruiz Cabrejos\n",
    "  affiliation: Universidad Peruana Cayetano Heredia\n",
    "Comment:\n",
    "web: \n",
    "date: 08 de febrero del 2018\n",
    "output: \n",
    "  html_document:\n",
    "    toc: true\n",
    "    toc_float: true\n",
    "---"
   ]
  },
  {
   "cell_type": "markdown",
   "metadata": {},
   "source": [
    "# Descripción de Procedimientos"
   ]
  },
  {
   "cell_type": "markdown",
   "metadata": {},
   "source": [
    "## Instalación del programa\n",
    "\n",
    "<ol> \n",
    "    <li>Ingresar a la página web de QGIS: http://www.qgis.org/ y descargar la última versión de QGIS. Para la presente práctica usaremos la versión 2.12 Lyon. </li>\n",
    "</ol>\n",
    "<ul> \n",
    "    <li>Opción “Descargar Ahora”</li>\n",
    "    <li>Pestaña “Descargas de instalación”</li>\n",
    "    <li>Sección “Último lanzamiento (eg. para Nuevos Usuarios):”</li>\n",
    "    <li>Escoger de acuerdo a la configuración de su computadora la versión de 32 o 64 bit</li>\n",
    "    <li>Ejecutar el programa descargado</li>\n",
    "\n",
    "</ul>\n"
   ]
  },
  {
   "cell_type": "markdown",
   "metadata": {},
   "source": [
    "## Descripción General del programa\n",
    "<ol start=\"2\">\n",
    "    <li>QGIS cuenta con 4 secciones importantes que hay que identificar antes de empezar el trabajo:\n",
    "    </li>\n",
    "</ol>\n",
    "<ul> \n",
    "    <li>Menú y controles</li>\n",
    "    <li>Ventana de visualización de datos</li>\n",
    "    <li>Tabla y contenidos</li>\n",
    "    <li>Importación de datos</li>\n",
    "</ul>\n",
    "\n",
    "<div align=\"left\"><img src=\"C:\\Users\\CORE_DM\\Desktop\\qgis\\images\\imagen2.png\" width=500 ></div>\n",
    "\n",
    "\n"
   ]
  },
  {
   "cell_type": "markdown",
   "metadata": {},
   "source": [
    "## Datos Vectoriales: Importación\n",
    "<ol start=\"3\">\n",
    "    <li>En la sección Importación de datos, hacer click en Agregar capa vectorial <div align=\"left\"><img src=\"C:\\Users\\CORE_DM\\Desktop\\qgis\\images\\imagen1.png\" width=40 height=40></div></li>\n",
    "    <li>Agregar al área de trabajo todos los archivos .shp de la carpeta “CAPAS”.</li>\n",
    "    <li>Hacer click izquierdo sobre la capa importada y seleccionar Zoom to layer para visualizarla en la ventana de visualización de datos.</li>\n",
    "    <li>Seleccionar y arrastar las capas dentro de la Tabla de contenidos para ordenarlas.</li>\n",
    "    <li>Para guardar el proyecto, hacer click en Guardar dentro de la sección de Menú y controles, y seleccionar la dirección donde se guardará el proyecto.</li>\n",
    "</ol>\n"
   ]
  },
  {
   "cell_type": "markdown",
   "metadata": {},
   "source": [
    "## Datos Vectoriales: Manejo de atributos\n",
    "<ol start=\"8\">\n",
    "    <li>Seleccionar la capa ríos dentro de la Tabla de contenidos</li>\n",
    "    <li>Hacer click en Abrir tabla de atributos <div align=\"left\"><img src=\"C:\\Users\\CORE_DM\\Desktop\\qgis\\images\\imagen3.png\" width=40 height=40></div> en el Menú y controles.</li>\n",
    "    <li>Observar los datos que contiene la capa.</li>\n",
    "    <li>Dentro de Menú y controles, hacer click en Seleccionar atributo por área <div align=\"left\"><img src=\"C:\\Users\\CORE_DM\\Desktop\\qgis\\images\\imagen4.png\" width=40 height=40></div></li>\n",
    "    <li>Seleccionar algún elemento de la capa ríos. Se sombreará de amarillo el elemento si la selección ha sido correcta.</li>\n",
    "    <li>Hacer click en Abrir tabla de atributos.</li>\n",
    "    <li>Hacer click en Mover la selección Arriba <div align=\"left\"><img src=\"C:\\Users\\CORE_DM\\Desktop\\qgis\\images\\imagen5.png\" width=40 height=40></div>, dentro de Tabla de atributos.</li>\n",
    "</ol>\n"
   ]
  },
  {
   "cell_type": "markdown",
   "metadata": {},
   "source": [
    "## Datos Vectoriales: Simbología de capas\n",
    "<ol start=\"15\">\n",
    "    <li>Seleccionar la capa ciudades dentro de la Tabla de contenidos</li>\n",
    "    <li>Hacer click izquierdo y seleccionar propiedades.</li>\n",
    "    <li>Ir a la sección Estilo.</li>\n",
    "    <li>Seleccionar la opción Single Symbol.</li>\n",
    "    <li>Cambiar el color, grosor y apariencia de la línea.</li>\n",
    "    <li>Ver en la ventana de visualización de datos los cambios realizados.</li>\n",
    "    <li>Repetir pasos del 17 al 19</li>\n",
    "    <li>Seleccionar la opción Categorized.</li>\n",
    "    <li>En Column seleccionar el atributo ADM1NAME.</li>\n",
    "    <li>Hacer click en Classify.</li>\n",
    "    <li>Ver en la ventana de visualización de datos los cambios realizados.</li>\n",
    "    <li>Repetir pasos del 17 al 19</li>\n",
    "    <li>Seleccionar la opción Graduated.</li>\n",
    "    <li>En Column seleccionar el atributo ELEVATION.</li>\n",
    "    <li>Hacer click en Classify.</li>\n",
    "    <li>Ver en la ventana de visualización de datos los cambios realizados.</li>\n",
    "    \n",
    "</ol>\n"
   ]
  },
  {
   "cell_type": "markdown",
   "metadata": {},
   "source": [
    "## Datos vectoriales: Geoprocesos básicos\n",
    "<ol start=\"31\">\n",
    "    <li>Ir a la barra de herramientas – vectorial – herramientas de geoproceso -> Cortar.</li>\n",
    "    <li>Establecer capa vectorial de entrada -> ciudades.</li>\n",
    "    <li>Establecer capa de corte -> zona_estudio.</li>\n",
    "    <li>Establecer ruta de archivo shape de salida. Aceptar. Cerrar. (poner nombre de archivo: ‘ciudades_clip.shp’).</li>\n",
    "    <li>En el Panel de capas, dar click derecho a la capa ciudades – Estilos – Copiar estilo.</li>\n",
    "    <li>En el Panel de capas, dar click derecho a la capa ciudades_clip – Estilos – Pegar estilo.</li>\n",
    "    <li>Abrir tabla de atributos de la capa ciudades_clip, Hacer click en el símbolo <div align=\"left\"><img src=\"C:\\Users\\CORE_DM\\Desktop\\qgis\\images\\imagen6.png\" width=40 height=40></div> (cntrl + E).</li>\n",
    "    <li>Hacer click en el símbolo <div align=\"left\"><img src=\"C:\\Users\\CORE_DM\\Desktop\\qgis\\images\\imagen7.png\" width=40 height=40></div> Anadir campo (cntrl + W), establecer nombre ‘size_cor’, tipo ‘Numero decimal’, longitud 10, precisión 9 – Aceptar.</li>\n",
    "    <li>En el símbolo <div align=\"left\"><img src=\"C:\\Users\\CORE_DM\\Desktop\\qgis\\images\\imagen8.png\" width=70 height=40></div> seleccionar size_cor, en campo de escritura ubicado a la derecha, escribir ‘SIZE/25, hacer click en Actualizar todo, ubicado a la derecha del campo de escritura.</li>\n",
    "    <li>Hacer click en <div align=\"left\"><img src=\"C:\\Users\\CORE_DM\\Desktop\\qgis\\images\\imagen9.png\" width=40 height=40></div> (cntrl + G), hacer click en <div align=\"left\"><img src=\"C:\\Users\\CORE_DM\\Desktop\\qgis\\images\\imagen10.png\" width=40 height=40></div> (cntrl + E). Cerrar la ventana.</li>\n",
    "    <li>Ir a la barra de herramientas – vectorial – herramientas de geoproceso -> Buffer.</li>\n",
    "    <li>Establecer capa vectorial de entrada -> ciudades_clip, seleccionar campo de distancia de buffer -> size_cor, establecer archivo shape de salida (‘ciudades_buffer’).</li>\n",
    "</ol>\n"
   ]
  },
  {
   "cell_type": "markdown",
   "metadata": {},
   "source": [
    "## Instalación de Complementos (Plugins)\n",
    "<ol start=\"43\">\n",
    "    <li>Ir a la barra de herramientas – Complementos.</li>\n",
    "    <li>En el campo buscar escribir ‘OpenLayers’, seleccionar OpenLayers Plugin y hacer click en instalar complemento.</li>\n",
    "    <li>Ir a la barra de herramientas – Web- OpenLayers Plugin –OpenStreetMap –> OpenStreetMap. (se debe tener conexión a internet)</li>\n",
    "</ol>\n"
   ]
  },
  {
   "cell_type": "markdown",
   "metadata": {},
   "source": [
    "## Datos Vectoriales: Exportación\n",
    "<ol start=\"46\">\n",
    "    <li>Seleccionar la capa ciudades dentro de la Tabla de contenidos.</li>\n",
    "    <li>Hacer click izquierdo y seleccionar Guardar como.</li>\n",
    "    <li>Seleccionar Formato Comma Separated Value [CSV].</li>\n",
    "    <li>Seleccionar Coordinate Reference System (CRS) correcto. En este caso (EPSG:4326, WGS 84).</li>\n",
    "    <li>Seleccionar la dirección donde se va a guardar el archivo.</li>\n",
    "    <li>Hacer click en Ok.</li>\n",
    "</ol>\n"
   ]
  },
  {
   "cell_type": "markdown",
   "metadata": {},
   "source": []
  }
 ],
 "metadata": {
  "kernelspec": {
   "display_name": "Python 3",
   "language": "python",
   "name": "python3"
  }
 },
 "nbformat": 4,
 "nbformat_minor": 2
}
